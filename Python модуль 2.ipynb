{
 "cells": [
  {
   "cell_type": "code",
   "execution_count": 1,
   "id": "6fe98c5c",
   "metadata": {},
   "outputs": [
    {
     "name": "stdout",
     "output_type": "stream",
     "text": [
      "10\n",
      "13\n"
     ]
    }
   ],
   "source": [
    "i = 0\n",
    "while i <= 10:\n",
    "    i = i + 1\n",
    "    if i > 7:\n",
    "        i = i + 2\n",
    "        print (i)"
   ]
  },
  {
   "cell_type": "code",
   "execution_count": 2,
   "id": "3dc0def1",
   "metadata": {},
   "outputs": [
    {
     "name": "stdout",
     "output_type": "stream",
     "text": [
      "*\n",
      "**\n",
      "*\n",
      "*\n",
      "**\n",
      "*\n",
      "***\n",
      "*\n",
      "**\n",
      "***\n"
     ]
    }
   ],
   "source": [
    "i = 0\n",
    "while i < 5:\n",
    "    print('*')\n",
    "    if i % 2 == 0:\n",
    "        print('**')\n",
    "    if i > 2:\n",
    "        print('***')\n",
    "    i = i + 1"
   ]
  },
  {
   "cell_type": "code",
   "execution_count": null,
   "id": "145a0123",
   "metadata": {},
   "outputs": [],
   "source": [
    "a = int (input())\n",
    "if a != 0 :\n",
    "    b = int (input())\n",
    "    if b !=0 :\n",
    "        s = a + b\n",
    "        while b !=0 :\n",
    "            b = int (input ())\n",
    "            s += b\n",
    "            if b == 0 :\n",
    "                print (s)\n",
    "    elif b == 0 :\n",
    "        print (s)\n",
    "elif a == 0 :\n",
    "    print (a)"
   ]
  },
  {
   "cell_type": "code",
   "execution_count": null,
   "id": "b7f46d4d",
   "metadata": {},
   "outputs": [],
   "source": [
    "a = int (input())\n",
    "b = int (input())\n",
    "c = (a + b) % 2\n",
    "while c <= (a + b) // 2 :\n",
    "    if c == 1 :\n",
    "        c += 1\n",
    "        print (c)"
   ]
  },
  {
   "cell_type": "code",
   "execution_count": null,
   "id": "b6045a0c",
   "metadata": {},
   "outputs": [],
   "source": [
    "a = int (input())\n",
    "b = int (input())\n",
    "c = (a + b) % 2\n",
    "while c <= (a + b) // 2 :\n",
    "    if c == 1 :\n",
    "        c += 1\n",
    "        print (c)"
   ]
  },
  {
   "cell_type": "code",
   "execution_count": 18,
   "id": "f8f25247",
   "metadata": {},
   "outputs": [
    {
     "name": "stdout",
     "output_type": "stream",
     "text": [
      "2\n"
     ]
    }
   ],
   "source": [
    "a = int (input ())"
   ]
  },
  {
   "cell_type": "code",
   "execution_count": 19,
   "id": "a6c5e1fc",
   "metadata": {},
   "outputs": [
    {
     "name": "stdout",
     "output_type": "stream",
     "text": [
      "1\n",
      "2\n",
      "2\n"
     ]
    }
   ],
   "source": [
    "a = int (input())\n",
    "b = int (input())\n",
    "c = (a + b) % 2\n",
    "while c <= (a + b) // 2 :\n",
    "    if c == 1 :\n",
    "        c += 1\n",
    "        print (c)"
   ]
  },
  {
   "cell_type": "code",
   "execution_count": 20,
   "id": "d068e48f",
   "metadata": {},
   "outputs": [
    {
     "name": "stdout",
     "output_type": "stream",
     "text": [
      "1\n",
      "2\n",
      "2\n"
     ]
    }
   ],
   "source": [
    "a = int (input())\n",
    "b = int (input())\n",
    "c = (a + b) // 2\n",
    "while c % a != 0 or c % b != 0 :\n",
    "    c += 1\n",
    "print (c)"
   ]
  },
  {
   "cell_type": "code",
   "execution_count": 24,
   "id": "ae682cbb",
   "metadata": {},
   "outputs": [
    {
     "name": "stdout",
     "output_type": "stream",
     "text": [
      "7\n"
     ]
    }
   ],
   "source": [
    "i = 0\n",
    "s = 0\n",
    "while i < 10:\n",
    "    i = i + 1\n",
    "    s = s + i\n",
    "    if s > 15:\n",
    "        break\n",
    "    i = i + 1\n",
    "print (i)"
   ]
  },
  {
   "cell_type": "code",
   "execution_count": 27,
   "id": "c63e0b1b",
   "metadata": {},
   "outputs": [
    {
     "name": "stdout",
     "output_type": "stream",
     "text": [
      "10\n"
     ]
    }
   ],
   "source": [
    "i = 0\n",
    "s = 0\n",
    "while i < 10:\n",
    "    i = i + 1\n",
    "    s = s + i\n",
    "    if s > 15:\n",
    "        continue\n",
    "    i = i + 1\n",
    "print (i)\n"
   ]
  },
  {
   "cell_type": "code",
   "execution_count": 35,
   "id": "c81319f7",
   "metadata": {},
   "outputs": [
    {
     "name": "stdout",
     "output_type": "stream",
     "text": [
      "564\n"
     ]
    }
   ],
   "source": [
    "a = int (input ())\n",
    "while a <= 100 :\n",
    "    if 100 >= a >= 10 :\n",
    "        print (a)\n",
    "        a = int (input ())\n",
    "    if a < 10 :\n",
    "        a = int (input ())\n",
    "        continue\n",
    "    if a > 100 :\n",
    "        break"
   ]
  },
  {
   "cell_type": "code",
   "execution_count": 57,
   "id": "4f81aa4c",
   "metadata": {
    "scrolled": true
   },
   "outputs": [
    {
     "name": "stdout",
     "output_type": "stream",
     "text": [
      "7\n",
      "10\n",
      "5\n",
      "6\n",
      "\t5\t6\n",
      "7\t35\t42\t\n",
      "8\t40\t48\t\n",
      "9\t45\t54\t\n",
      "10\t50\t60\t\n"
     ]
    }
   ],
   "source": [
    "a =int (input())\n",
    "b =int (input())\n",
    "c =int (input())\n",
    "d =int (input())\n",
    "for g in range (c,d+1):\n",
    "    print('\\t'+str(g),end='')\n",
    "print(end='\\n')\n",
    "for i in range (a,b+1):\n",
    "    print(str(i)+'\\t',end='')\n",
    "    for j in range (c,d+1):\n",
    "        print(str(i*j),end='\\t')\n",
    "    print(end='\\n')"
   ]
  },
  {
   "cell_type": "code",
   "execution_count": 82,
   "id": "38221a07",
   "metadata": {},
   "outputs": [
    {
     "name": "stdout",
     "output_type": "stream",
     "text": [
      "-5\n",
      "12\n",
      "13.5\n"
     ]
    }
   ],
   "source": [
    "a =int (input())\n",
    "b =int (input())\n",
    "s=0\n",
    "for i in range(a , b+1):\n",
    "    if i % 3 == 0 :\n",
    "        s +=i\n",
    "        len (str(i)) == j\n",
    "print (s/j)"
   ]
  },
  {
   "cell_type": "code",
   "execution_count": 77,
   "id": "3d2b3edb",
   "metadata": {},
   "outputs": [
    {
     "name": "stdout",
     "output_type": "stream",
     "text": [
      "-5\n",
      "12\n"
     ]
    }
   ],
   "source": []
  },
  {
   "cell_type": "code",
   "execution_count": 2,
   "id": "055832e1",
   "metadata": {},
   "outputs": [
    {
     "name": "stdout",
     "output_type": "stream",
     "text": [
      "acggtgttat\n",
      "40.0\n"
     ]
    }
   ],
   "source": [
    "potion = str (input())\n",
    "G = potion.lower().count(\"g\".lower())\n",
    "C =  potion.lower().count(\"c\".lower())\n",
    "GC = G + C\n",
    "l = len (str(potion))\n",
    "r = (GC/l)*100\n",
    "print (r)"
   ]
  },
  {
   "cell_type": "code",
   "execution_count": 3,
   "id": "c60db768",
   "metadata": {},
   "outputs": [
    {
     "name": "stdout",
     "output_type": "stream",
     "text": [
      "abcdefghijk\n"
     ]
    }
   ],
   "source": [
    "s = 'abcdefghijk'\n",
    "s[3:6]\n",
    "s[:6]\n",
    "s[3:]\n",
    "s[::-1]\n",
    "s[-3:]\n",
    "s[:-6]\n",
    "s[-1:-10:-2]\n",
    "print (s)"
   ]
  },
  {
   "cell_type": "code",
   "execution_count": 12,
   "id": "a598f527",
   "metadata": {},
   "outputs": [
    {
     "data": {
      "text/plain": [
       "'kigec'"
      ]
     },
     "execution_count": 12,
     "metadata": {},
     "output_type": "execute_result"
    }
   ],
   "source": [
    "s = 'abcdefghijk'\n",
    "s[-1:-10:-2]"
   ]
  },
  {
   "cell_type": "code",
   "execution_count": 14,
   "id": "ba008234",
   "metadata": {},
   "outputs": [
    {
     "name": "stdout",
     "output_type": "stream",
     "text": [
      "aaaabbcaa\n"
     ]
    },
    {
     "ename": "TypeError",
     "evalue": "'type' object is not subscriptable",
     "output_type": "error",
     "traceback": [
      "\u001b[1;31m---------------------------------------------------------------------------\u001b[0m",
      "\u001b[1;31mTypeError\u001b[0m                                 Traceback (most recent call last)",
      "Input \u001b[1;32mIn [14]\u001b[0m, in \u001b[0;36m<cell line: 2>\u001b[1;34m()\u001b[0m\n\u001b[0;32m      1\u001b[0m word \u001b[38;5;241m=\u001b[39m \u001b[38;5;28mstr\u001b[39m (\u001b[38;5;28minput\u001b[39m())\n\u001b[1;32m----> 2\u001b[0m \u001b[38;5;28;01mfor\u001b[39;00m word \u001b[38;5;129;01min\u001b[39;00m \u001b[38;5;28;43mrange\u001b[39;49m\u001b[43m \u001b[49m\u001b[43m[\u001b[49m\u001b[38;5;241;43m0\u001b[39;49m\u001b[43m:\u001b[49m\u001b[43m]\u001b[49m :\n\u001b[0;32m      3\u001b[0m     \u001b[38;5;28;01mif\u001b[39;00m word\u001b[38;5;241m.\u001b[39mfind () \u001b[38;5;241m==\u001b[39m \u001b[38;5;241m-\u001b[39m\u001b[38;5;241m1\u001b[39m :\n\u001b[0;32m      4\u001b[0m         \u001b[38;5;28;01mcontinue\u001b[39;00m\n",
      "\u001b[1;31mTypeError\u001b[0m: 'type' object is not subscriptable"
     ]
    }
   ],
   "source": [
    "word = str (input())\n",
    "status = True\n",
    "while status = True :\n",
    "    if word.find () == -1 :\n",
    "        status = False \n",
    "        continue\n",
    "    if word.find () > -1 :\n",
    "        letter = word.count()\n",
    "        word.replace (\"\", letter)\n",
    "    print (word)"
   ]
  },
  {
   "cell_type": "code",
   "execution_count": 15,
   "id": "af2618a6",
   "metadata": {},
   "outputs": [
    {
     "name": "stdout",
     "output_type": "stream",
     "text": [
      "aaaabbcaa\n",
      "a4b2c1a2\n"
     ]
    }
   ],
   "source": [
    "s = str(input())\n",
    "l = len(s)-1\n",
    "c = 1\n",
    "t = ''\n",
    "if len(s)==1:\n",
    "    t = t +s+str(c)\n",
    "else:\n",
    "    for i in range(0,l):\n",
    "        if s[i]==s[i+1]:\n",
    "            c +=1\n",
    "        elif s[i]!=s[i+1]:\n",
    "            t = t + s[i]+str(c)\n",
    "            c = 1\n",
    "    for j in range(l,l+1):\n",
    "        if s[-1]==s[-2]:\n",
    "            t = t +s[j]+str(c)\n",
    "        elif s[-1]!=s[-2]:\n",
    "            t = t +s[j]+str(c)\n",
    "            c = 1\n",
    "print(t)\n",
    "\n",
    "# Была помощь сообщества"
   ]
  },
  {
   "cell_type": "code",
   "execution_count": 18,
   "id": "12b21b01",
   "metadata": {},
   "outputs": [
    {
     "name": "stdout",
     "output_type": "stream",
     "text": [
      "['Ivan', 'Masha', 'Sasha', 'Olga', 'O', 'l', 'g', 'a']\n"
     ]
    }
   ],
   "source": [
    "students = ['Ivan', 'Masha', 'Sasha']\n",
    "students += ['Olga']\n",
    "students += 'Olga'\n",
    "print (students)"
   ]
  },
  {
   "cell_type": "code",
   "execution_count": 25,
   "id": "e904ceab",
   "metadata": {},
   "outputs": [
    {
     "name": "stdout",
     "output_type": "stream",
     "text": [
      "4 -1 9 3\n",
      "['4'\n"
     ]
    }
   ],
   "source": [
    "i = str (input().split())\n",
    "summary = i[0]+i[1]+i[2]+i[3]\n",
    "print (summary)"
   ]
  },
  {
   "cell_type": "code",
   "execution_count": 35,
   "id": "e3964bcc",
   "metadata": {},
   "outputs": [
    {
     "name": "stdout",
     "output_type": "stream",
     "text": [
      "4 -1 9 3\n"
     ]
    },
    {
     "ename": "ValueError",
     "evalue": "could not convert string to float: ''",
     "output_type": "error",
     "traceback": [
      "\u001b[1;31m---------------------------------------------------------------------------\u001b[0m",
      "\u001b[1;31mValueError\u001b[0m                                Traceback (most recent call last)",
      "Input \u001b[1;32mIn [35]\u001b[0m, in \u001b[0;36m<cell line: 7>\u001b[1;34m()\u001b[0m\n\u001b[0;32m      5\u001b[0m d\u001b[38;5;241m=\u001b[39mi [\u001b[38;5;241m3\u001b[39m] \n\u001b[0;32m      6\u001b[0m a \u001b[38;5;241m=\u001b[39m \u001b[38;5;28mint\u001b[39m(a) \n\u001b[1;32m----> 7\u001b[0m b \u001b[38;5;241m=\u001b[39m \u001b[38;5;28;43mfloat\u001b[39;49m\u001b[43m(\u001b[49m\u001b[43mb\u001b[49m\u001b[43m)\u001b[49m\n\u001b[0;32m      8\u001b[0m c \u001b[38;5;241m=\u001b[39m \u001b[38;5;28mint\u001b[39m(c)\n\u001b[0;32m      9\u001b[0m d \u001b[38;5;241m=\u001b[39m \u001b[38;5;28mint\u001b[39m(d)\n",
      "\u001b[1;31mValueError\u001b[0m: could not convert string to float: ''"
     ]
    }
   ],
   "source": [
    "i = str (input())\n",
    "a=i [0] \n",
    "b=i [1] \n",
    "c=i [2] \n",
    "d=i [3] \n",
    "a = int(a) \n",
    "b = float(b)\n",
    "c = int(c)\n",
    "d = int(d)\n",
    "summary = a + d + c + d\n",
    "print (summary)"
   ]
  },
  {
   "cell_type": "code",
   "execution_count": 39,
   "id": "445151b3",
   "metadata": {},
   "outputs": [
    {
     "name": "stdout",
     "output_type": "stream",
     "text": [
      "4 -1 9 3\n",
      "15\n"
     ]
    }
   ],
   "source": [
    "i = [int(i) for i in input().split()]\n",
    "a=i [0] \n",
    "b=i [1] \n",
    "c=i [2] \n",
    "d=i [3] \n",
    "a = int(a) \n",
    "b = int(b)\n",
    "c = int(c)\n",
    "d = int(d)\n",
    "summary = a + d + c + b\n",
    "print (summary)"
   ]
  },
  {
   "cell_type": "code",
   "execution_count": 7,
   "id": "c4e59356",
   "metadata": {},
   "outputs": [
    {
     "name": "stdout",
     "output_type": "stream",
     "text": [
      "1 3 5 6 10\n",
      "[['1'], ['3'], ['5'], ['6'], ['1', '0'], ['1'], ['3'], ['5'], ['6'], ['1', '0']]\n"
     ]
    }
   ],
   "source": [
    "s = [ list(i) for i in input().split()]\n",
    "summ = [] \n",
    "l = len(s)\n",
    "if l == 1 :\n",
    "    summ = summ + s\n",
    "    print(summ)\n",
    "elif l != 1 :\n",
    "    for i in range(l-1,l+1):\n",
    "        summ = summ + s\n",
    "    print(summ)"
   ]
  },
  {
   "cell_type": "code",
   "execution_count": 27,
   "id": "11d40a95",
   "metadata": {},
   "outputs": [
    {
     "name": "stdout",
     "output_type": "stream",
     "text": [
      "2 3 5 4\n"
     ]
    },
    {
     "ename": "TypeError",
     "evalue": "unsupported operand type(s) for -: 'list' and 'int'",
     "output_type": "error",
     "traceback": [
      "\u001b[1;31m---------------------------------------------------------------------------\u001b[0m",
      "\u001b[1;31mTypeError\u001b[0m                                 Traceback (most recent call last)",
      "Input \u001b[1;32mIn [27]\u001b[0m, in \u001b[0;36m<cell line: 4>\u001b[1;34m()\u001b[0m\n\u001b[0;32m     14\u001b[0m     \u001b[38;5;28mprint\u001b[39m (\u001b[38;5;241m*\u001b[39mrlist)\n\u001b[0;32m     15\u001b[0m \u001b[38;5;28;01mif\u001b[39;00m number \u001b[38;5;241m!=\u001b[39m numbers [\u001b[38;5;241m-\u001b[39m\u001b[38;5;241m1\u001b[39m] \u001b[38;5;129;01mor\u001b[39;00m numbers [\u001b[38;5;241m0\u001b[39m] :\n\u001b[1;32m---> 16\u001b[0m     summ \u001b[38;5;241m=\u001b[39m number \u001b[38;5;241m+\u001b[39m numbers [\u001b[43mnumber\u001b[49m\u001b[38;5;241;43m-\u001b[39;49m\u001b[38;5;241;43m1\u001b[39;49m:number\u001b[38;5;241m+\u001b[39m\u001b[38;5;241m1\u001b[39m]\n\u001b[0;32m     17\u001b[0m     rlist \u001b[38;5;241m+\u001b[39m\u001b[38;5;241m=\u001b[39m summ\n\u001b[0;32m     18\u001b[0m     \u001b[38;5;28mprint\u001b[39m (\u001b[38;5;241m*\u001b[39mrlist)\n",
      "\u001b[1;31mTypeError\u001b[0m: unsupported operand type(s) for -: 'list' and 'int'"
     ]
    }
   ],
   "source": [
    "numbers = input().split()\n",
    "summ = 0\n",
    "rlist = []\n",
    "for number in [numbers] :\n",
    "    if len(numbers) == 1 :\n",
    "        print (*numbers)\n",
    "    if number == numbers [0] :\n",
    "        summ = number + numbers [-1:1:2]\n",
    "        rlist += summ\n",
    "        print (*rlist)\n",
    "    if number == numbers [-1] :\n",
    "        summ = number + numbers [-2:0:2]\n",
    "        rlist += summ\n",
    "        print (*rlist)\n",
    "    if number != numbers [-1] or numbers [0] :\n",
    "        summ = number + numbers [number-1:number+1]\n",
    "        rlist += summ\n",
    "        print (*rlist)"
   ]
  },
  {
   "cell_type": "code",
   "execution_count": 29,
   "id": "754da574",
   "metadata": {},
   "outputs": [
    {
     "name": "stdout",
     "output_type": "stream",
     "text": [
      "10\n",
      "10 "
     ]
    }
   ],
   "source": [
    "s = [ int(i) for i in input().split()]\n",
    "t = []\n",
    "l = len(s)-1\n",
    "k = 0\n",
    "i = 0\n",
    "if len(s)==0:\n",
    "    print(str(0))\n",
    "else:\n",
    "    for st in s:\n",
    "        if len(s)>1:\n",
    "            if i==0:\n",
    "                k = s[i+1] + s[-1]\n",
    "                t.append(k)\n",
    "            elif i>0 and i<l:\n",
    "                k=s[i-1]+s[i+1]\n",
    "                t.append(k)\n",
    "            elif i==l:\n",
    "                k = s[i-1]+s[0]\n",
    "                t.append(k)\n",
    "        elif len(s)==1:\n",
    "            k = s[i]\n",
    "            t.append(k)       \n",
    "        i +=1\n",
    "    j = 0\n",
    "    for st2 in t:\n",
    "        print(str(t[j])+' ',end='')\n",
    "        j +=1\n",
    "# Была помощь сообщества"
   ]
  },
  {
   "cell_type": "code",
   "execution_count": 37,
   "id": "a5f7feee",
   "metadata": {},
   "outputs": [
    {
     "name": "stdout",
     "output_type": "stream",
     "text": [
      "4 8 0 3 4 2 0 3\n",
      "0 0 3 3 4 4\n"
     ]
    }
   ],
   "source": [
    "s = [ int(i) for i in input().split()]\n",
    "s.sort()\n",
    "l = len(s)-1\n",
    "counter = 0\n",
    "result = []\n",
    "for i in s :\n",
    "    counter = s.count(i)\n",
    "    if counter >= 2 :\n",
    "        result.append (i)\n",
    "    elif counter < 2 :\n",
    "        continue\n",
    "print (*result)"
   ]
  },
  {
   "cell_type": "code",
   "execution_count": 80,
   "id": "52afc03f",
   "metadata": {},
   "outputs": [
    {
     "name": "stdout",
     "output_type": "stream",
     "text": [
      "10 10 10 10\n",
      "\n"
     ]
    }
   ],
   "source": [
    "s = [ int(i) for i in input().split() ]\n",
    "s.sort()\n",
    "l = len(s)-1\n",
    "counter = 0\n",
    "result = []\n",
    "if s [0] == s [1:] :\n",
    "    print (*s)\n",
    "for i in range (l) :\n",
    "    counter = s.count(i)\n",
    "    if counter >= 2 :\n",
    "        result.append (i)\n",
    "print (*result)"
   ]
  },
  {
   "cell_type": "code",
   "execution_count": 64,
   "id": "48c3a6f3",
   "metadata": {},
   "outputs": [
    {
     "name": "stdout",
     "output_type": "stream",
     "text": [
      "-1 -1\n"
     ]
    },
    {
     "data": {
      "text/plain": [
       "2"
      ]
     },
     "execution_count": 64,
     "metadata": {},
     "output_type": "execute_result"
    }
   ],
   "source": [
    "s = [ int(i) for i in input().split()]\n",
    "s.sort()\n",
    "s.count(-1)"
   ]
  },
  {
   "cell_type": "code",
   "execution_count": 83,
   "id": "c7323881",
   "metadata": {},
   "outputs": [
    {
     "name": "stdout",
     "output_type": "stream",
     "text": [
      "-1 -1 -1 3\n",
      "-1 "
     ]
    }
   ],
   "source": [
    "s = [int(i) for i in input().split(' ')]\n",
    "s.sort()\n",
    "result = []\n",
    "for i in range(len(s)):\n",
    "    if len(s) == 1: \n",
    "        result = [] \n",
    "    elif s[i] == s[i-1]:\n",
    "        if s[i] not in result:\n",
    "            result.append(s[i])\n",
    "for i in result:\n",
    "    print(i, end=' ')"
   ]
  },
  {
   "cell_type": "code",
   "execution_count": 28,
   "id": "3b530adf",
   "metadata": {},
   "outputs": [
    {
     "name": "stdout",
     "output_type": "stream",
     "text": [
      "1 -3 5 -6 -10 13 4 -8\n"
     ]
    },
    {
     "ename": "TypeError",
     "evalue": "object of type 'generator' has no len()",
     "output_type": "error",
     "traceback": [
      "\u001b[1;31m---------------------------------------------------------------------------\u001b[0m",
      "\u001b[1;31mTypeError\u001b[0m                                 Traceback (most recent call last)",
      "Input \u001b[1;32mIn [28]\u001b[0m, in \u001b[0;36m<cell line: 9>\u001b[1;34m()\u001b[0m\n\u001b[0;32m      7\u001b[0m square \u001b[38;5;241m=\u001b[39m []\n\u001b[0;32m      8\u001b[0m l \u001b[38;5;241m=\u001b[39m \u001b[38;5;28mlen\u001b[39m(numbers)\u001b[38;5;241m-\u001b[39m\u001b[38;5;241m1\u001b[39m\n\u001b[1;32m----> 9\u001b[0m l2 \u001b[38;5;241m=\u001b[39m \u001b[38;5;28;43mlen\u001b[39;49m\u001b[43m(\u001b[49m\u001b[43ms\u001b[49m\u001b[43m)\u001b[49m\u001b[38;5;241m-\u001b[39m\u001b[38;5;241m1\u001b[39m\n\u001b[0;32m     10\u001b[0m summ1\u001b[38;5;241m+\u001b[39m\u001b[38;5;241m=\u001b[39ms\n\u001b[0;32m     11\u001b[0m \u001b[38;5;28;01mwhile\u001b[39;00m summ1\u001b[38;5;241m!=\u001b[39m\u001b[38;5;241m0\u001b[39m :\n",
      "\u001b[1;31mTypeError\u001b[0m: object of type 'generator' has no len()"
     ]
    }
   ],
   "source": [
    "import functools\n",
    "s = [(int(i) for i in input().split())]\n",
    "summ1=0\n",
    "summ2=0\n",
    "counter=0\n",
    "numbers=[]\n",
    "square = []\n",
    "l = len(numbers)-1\n",
    "l2 = len(s)-1\n",
    "summ1+=s\n",
    "while summ1!=0 :\n",
    "    for i in range(l2):\n",
    "        summ1+=i\n",
    "        counter+=1\n",
    "        numbers.append(i)\n",
    "        if summ1!=0:\n",
    "            continue\n",
    "        elif summ1==0:\n",
    "            break\n",
    "for number in numbers :\n",
    "    square.append (number**2)\n",
    "    print (*square)\n",
    "    \n",
    "    \n",
    "\n",
    "    \n",
    "            "
   ]
  },
  {
   "cell_type": "code",
   "execution_count": 30,
   "id": "b7cefb9e",
   "metadata": {},
   "outputs": [
    {
     "name": "stdout",
     "output_type": "stream",
     "text": [
      "1 \n",
      "-3\n",
      "5\n",
      "-6\n",
      "-10\n",
      "13\n",
      "1 9 25 36 100 169\n"
     ]
    }
   ],
   "source": [
    "s = int (input())\n",
    "summ1=0\n",
    "summ2=0\n",
    "counter=0\n",
    "numbers=[]\n",
    "square = []\n",
    "summ1+=s\n",
    "numbers.append(s)\n",
    "while summ1!=0 :\n",
    "    s = int (input())\n",
    "    summ1+=s\n",
    "    numbers.append(s)\n",
    "    summ2+=s**2\n",
    "if summ1==0 :\n",
    "    print (summ2)"
   ]
  },
  {
   "cell_type": "code",
   "execution_count": 32,
   "id": "0645f4d8",
   "metadata": {},
   "outputs": [
    {
     "name": "stdout",
     "output_type": "stream",
     "text": [
      "10\n",
      "12\n",
      "-22\n",
      "728\n"
     ]
    }
   ],
   "source": [
    "s = int (input())\n",
    "if s ==0 :\n",
    "    print (s)\n",
    "elif s!=0 :\n",
    "    summ1=s\n",
    "    summ2=s**2\n",
    "    while summ1!=0 :\n",
    "        s = int (input())\n",
    "        summ1+=s\n",
    "        summ2+=(s**2)\n",
    "    if summ1==0 :\n",
    "        print (summ2)"
   ]
  },
  {
   "cell_type": "code",
   "execution_count": 38,
   "id": "4c767f47",
   "metadata": {},
   "outputs": [
    {
     "name": "stdout",
     "output_type": "stream",
     "text": [
      "7\n",
      "[[1, 1, 1, 1, 1, 1, 1]] [[1, 1, 1, 1, 1, 1, 1]] [[1, 1, 1, 1, 1, 1, 1]] [[1, 1, 1, 1, 1, 1, 1]] [[1, 1, 1, 1, 1, 1, 1]] [[1, 1, 1, 1, 1, 1, 1]] [[1, 1, 1, 1, 1, 1, 1]]\n"
     ]
    }
   ],
   "source": [
    "n = int (input())\n",
    "a=[[[1]*n] for i in range (n)]\n",
    "print(*a)\n"
   ]
  },
  {
   "cell_type": "code",
   "execution_count": 49,
   "id": "6d8bec6e",
   "metadata": {},
   "outputs": [
    {
     "name": "stdout",
     "output_type": "stream",
     "text": [
      "7\n",
      "[1] [2, 2] [3, 3, 3] [4, 4, 4, 4] [5, 5, 5, 5, 5] [6, 6, 6, 6, 6, 6] [7, 7, 7, 7, 7, 7, 7]\n"
     ]
    }
   ],
   "source": [
    "n = int (input())\n",
    "a = 1\n",
    "counter = 1\n",
    "numbers=[]\n",
    "numbers.append([counter])\n",
    "while counter != n :\n",
    "    counter+=1\n",
    "    a+=1\n",
    "    numbers.append([a]*counter)\n",
    "print (*numbers)\n",
    "    "
   ]
  },
  {
   "cell_type": "code",
   "execution_count": 69,
   "id": "0302b892",
   "metadata": {},
   "outputs": [
    {
     "name": "stdout",
     "output_type": "stream",
     "text": [
      "7\n",
      "1 2 2 3 3 3 4\n"
     ]
    }
   ],
   "source": [
    "length = int (input())\n",
    "line = [0 for i in range(length)] \n",
    "numbers=[]\n",
    "counter=0\n",
    "number=0\n",
    "while len(line) > len(numbers) :\n",
    "    counter+=1\n",
    "    number+=1\n",
    "    numbers+=([number]*number)\n",
    "while len(numbers) != len(line):\n",
    "    del numbers[-1]\n",
    "    if len(numbers) == len(line):\n",
    "        break\n",
    "print (*numbers)"
   ]
  },
  {
   "cell_type": "code",
   "execution_count": 89,
   "id": "fb4a7d62",
   "metadata": {},
   "outputs": [
    {
     "name": "stdout",
     "output_type": "stream",
     "text": [
      "5 8 2 7 8 8 2 4\n",
      "8\n",
      "Отсутствует\n"
     ]
    }
   ],
   "source": [
    "lst = [int(i) for i in input().split()]\n",
    "x=list(input())\n",
    "positions=[]\n",
    "presence=True\n",
    "if x not in lst:\n",
    "    print(\"Отсутствует\")\n",
    "elif x in lst :\n",
    "    while presence==True:\n",
    "        positions+=lst.find(x)\n",
    "        if x in lst :\n",
    "            presence=True\n",
    "            lst.remove(x)\n",
    "            positions+=(lst.find(x)+1)\n",
    "        elif x not in lst :\n",
    "            presence=False\n",
    "        if presence==False:\n",
    "            break\n",
    "        break\n",
    "    print(*positions)"
   ]
  },
  {
   "cell_type": "code",
   "execution_count": 87,
   "id": "b2351946",
   "metadata": {},
   "outputs": [
    {
     "name": "stdout",
     "output_type": "stream",
     "text": [
      "5 8 2 7 8 8 2 4\n",
      "8\n",
      "1 4 5 "
     ]
    }
   ],
   "source": [
    "lst = [int(i) for i in input().split()]\n",
    "x = int(input())\n",
    "\n",
    "for i in range(len(lst)):\n",
    "    if x == lst[i]:\n",
    "        print(i, end=' ')\n",
    "\n",
    "if x not in lst:\n",
    "    print('Отсутствует')\n",
    "    \n",
    "# подсказали решить через range от len lst"
   ]
  },
  {
   "cell_type": "code",
   "execution_count": 43,
   "id": "193719ec",
   "metadata": {},
   "outputs": [
    {
     "name": "stdout",
     "output_type": "stream",
     "text": [
      "9 5 3\n",
      "0 7 -1\n",
      "-5 2 9\n",
      "end\n"
     ]
    },
    {
     "ename": "ValueError",
     "evalue": "too many values to unpack (expected 1)",
     "output_type": "error",
     "traceback": [
      "\u001b[1;31m---------------------------------------------------------------------------\u001b[0m",
      "\u001b[1;31mValueError\u001b[0m                                Traceback (most recent call last)",
      "Input \u001b[1;32mIn [43]\u001b[0m, in \u001b[0;36m<cell line: 5>\u001b[1;34m()\u001b[0m\n\u001b[0;32m      3\u001b[0m     matrix\u001b[38;5;241m.\u001b[39mappend(tmp\u001b[38;5;241m.\u001b[39msplit())\n\u001b[0;32m      4\u001b[0m l \u001b[38;5;241m=\u001b[39m \u001b[38;5;28mlen\u001b[39m(matrix)\n\u001b[1;32m----> 5\u001b[0m [i]\u001b[38;5;241m=\u001b[39mmatrix[\u001b[38;5;241m0\u001b[39m]\n\u001b[0;32m      6\u001b[0m [j]\u001b[38;5;241m=\u001b[39mmatrix[\u001b[38;5;241m0\u001b[39m][\u001b[38;5;241m0\u001b[39m:]\n\u001b[0;32m      7\u001b[0m \u001b[38;5;28;01mif\u001b[39;00m l\u001b[38;5;241m>\u001b[39m\u001b[38;5;241m1\u001b[39m:\n",
      "\u001b[1;31mValueError\u001b[0m: too many values to unpack (expected 1)"
     ]
    }
   ],
   "source": [
    "matrix = list()\n",
    "while (tmp := input()) != 'end':\n",
    "    matrix.append(tmp.split())\n",
    "l = len(matrix)\n",
    "[i]=matrix[0]\n",
    "[j]=matrix[0][0:]\n",
    "if l>1:\n",
    "    [i], [j] = ([i]-1,[j]) + ([i]+1, [j]) + (i,[j]-1) + (i , [j]+1)\n",
    "    for i in range(l):\n",
    "        for j in range(l[i]):\n",
    "            print(matrix[i][j], end=' ')\n",
    "            print()\n",
    "elif l==1 :\n",
    "    print (*matrix[0])\n",
    "\n",
    "# Напишите программу, на вход которой подаётся прямоугольная матрица в виде последовательности строк. \n",
    "#После последней строки матрицы идёт строка, содержащая только строку \"end\" (без кавычек, см. Sample Input).\n",
    "#Программа должна вывести матрицу того же размера, у которой каждый элемент в позиции \n",
    "#i, j равен сумме элементов первой матрицы на позициях (i-1, j), (i+1, j), (i, j-1), (i, j+1). \n",
    "#У крайних символов соседний элемент находится с противоположной стороны матрицы.\n",
    "#В случае одной строки/столбца элемент сам себе является соседом по соответствующему направлению.\n",
    "#Sample Input 1:\n",
    "#9 5 3\n",
    "#0 7 -1\n",
    "#-5 2 9\n",
    "#end\n",
    "#Sample Output 1:\n",
    "#3 21 22\n",
    "#10 6 19\n",
    "#20 16 -1"
   ]
  },
  {
   "cell_type": "code",
   "execution_count": 49,
   "id": "e77651b5",
   "metadata": {},
   "outputs": [
    {
     "name": "stdout",
     "output_type": "stream",
     "text": [
      "1\n",
      "end\n"
     ]
    },
    {
     "ename": "IndexError",
     "evalue": "list index out of range",
     "output_type": "error",
     "traceback": [
      "\u001b[1;31m---------------------------------------------------------------------------\u001b[0m",
      "\u001b[1;31mIndexError\u001b[0m                                Traceback (most recent call last)",
      "Input \u001b[1;32mIn [49]\u001b[0m, in \u001b[0;36m<cell line: 5>\u001b[1;34m()\u001b[0m\n\u001b[0;32m      3\u001b[0m     matrix\u001b[38;5;241m.\u001b[39mappend(tmp\u001b[38;5;241m.\u001b[39msplit())\n\u001b[0;32m      4\u001b[0m l \u001b[38;5;241m=\u001b[39m \u001b[38;5;28mlen\u001b[39m(a)\n\u001b[1;32m----> 5\u001b[0m row\u001b[38;5;241m=\u001b[39m\u001b[38;5;28mlen\u001b[39m (\u001b[43ma\u001b[49m\u001b[43m[\u001b[49m\u001b[38;5;241;43m0\u001b[39;49m\u001b[43m]\u001b[49m)\n\u001b[0;32m      6\u001b[0m col\u001b[38;5;241m=\u001b[39m\u001b[38;5;28mlen\u001b[39m (a[\u001b[38;5;241m0\u001b[39m][\u001b[38;5;241m0\u001b[39m:])\n\u001b[0;32m      7\u001b[0m \u001b[38;5;28;01mif\u001b[39;00m l\u001b[38;5;241m>\u001b[39m\u001b[38;5;241m1\u001b[39m :\n",
      "\u001b[1;31mIndexError\u001b[0m: list index out of range"
     ]
    }
   ],
   "source": [
    "a = list()\n",
    "while (tmp := input()) != 'end':\n",
    "    matrix.append(tmp.split())\n",
    "l = len(a)\n",
    "row=len (a[0])\n",
    "col=len (a[0][0:])\n",
    "if l>1 :\n",
    "    for i in range(row):\n",
    "        for j in range(col):\n",
    "                for ij in range(-1, 2):\n",
    "                    for ji in range(-1, 2):\n",
    "                        ai = i + ij \n",
    "                        aj = j + ji \n",
    "                        a[i][j]+=(i-1,j) + (i+1, j) + (i,j-1) + (i , j+1)\n",
    "elif l==1 :\n",
    "    print (*a[0])\n",
    "    \n",
    "for i in range(n):\n",
    "    for j in range(m):\n",
    "            print(a[0], end='')\n",
    "            print(a[1], end='')\n",
    "            print(a[2], end='')\n",
    "\n"
   ]
  },
  {
   "cell_type": "code",
   "execution_count": 50,
   "id": "8932fc0f",
   "metadata": {},
   "outputs": [
    {
     "name": "stdout",
     "output_type": "stream",
     "text": [
      "1\n",
      "end\n",
      "4\n"
     ]
    }
   ],
   "source": [
    "a =[list(map(int, s.split())) for s in iter(input, 'end')]\n",
    "for row in [[a[i-1][j]+a[(i+1) % len(a)][j]+a[i][j-1]+a[i][(j+1) % len(a[i])] for j in range(len(a[i]))] for i in range(len(a))]:\n",
    "    print(*row)\n",
    "# была помощь сообщества python"
   ]
  }
 ],
 "metadata": {
  "kernelspec": {
   "display_name": "Python 3 (ipykernel)",
   "language": "python",
   "name": "python3"
  },
  "language_info": {
   "codemirror_mode": {
    "name": "ipython",
    "version": 3
   },
   "file_extension": ".py",
   "mimetype": "text/x-python",
   "name": "python",
   "nbconvert_exporter": "python",
   "pygments_lexer": "ipython3",
   "version": "3.10.2"
  }
 },
 "nbformat": 4,
 "nbformat_minor": 5
}
