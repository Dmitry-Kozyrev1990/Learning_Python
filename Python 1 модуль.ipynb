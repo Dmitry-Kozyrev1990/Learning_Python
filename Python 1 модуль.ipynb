{
 "cells": [
  {
   "cell_type": "code",
   "execution_count": 1,
   "id": "75bc4ab4",
   "metadata": {},
   "outputs": [
    {
     "data": {
      "text/plain": [
       "12345554321"
      ]
     },
     "execution_count": 1,
     "metadata": {},
     "output_type": "execute_result"
    }
   ],
   "source": [
    "11111 * 1111111"
   ]
  },
  {
   "cell_type": "code",
   "execution_count": 2,
   "id": "e4982230",
   "metadata": {},
   "outputs": [
    {
     "data": {
      "text/plain": [
       "6"
      ]
     },
     "execution_count": 2,
     "metadata": {},
     "output_type": "execute_result"
    }
   ],
   "source": [
    "42 // 4 + 2 * (-2)"
   ]
  },
  {
   "cell_type": "code",
   "execution_count": 3,
   "id": "1c55a57d",
   "metadata": {},
   "outputs": [
    {
     "ename": "ZeroDivisionError",
     "evalue": "integer division or modulo by zero",
     "output_type": "error",
     "traceback": [
      "\u001b[1;31m---------------------------------------------------------------------------\u001b[0m",
      "\u001b[1;31mZeroDivisionError\u001b[0m                         Traceback (most recent call last)",
      "Input \u001b[1;32mIn [3]\u001b[0m, in \u001b[0;36m<cell line: 1>\u001b[1;34m()\u001b[0m\n\u001b[1;32m----> 1\u001b[0m \u001b[38;5;241;43m42\u001b[39;49m\u001b[43m \u001b[49m\u001b[38;5;241;43m/\u001b[39;49m\u001b[38;5;241;43m/\u001b[39;49m\u001b[43m \u001b[49m\u001b[43m(\u001b[49m\u001b[38;5;241;43m4\u001b[39;49m\u001b[43m \u001b[49m\u001b[38;5;241;43m+\u001b[39;49m\u001b[43m \u001b[49m\u001b[38;5;241;43m2\u001b[39;49m\u001b[43m \u001b[49m\u001b[38;5;241;43m*\u001b[39;49m\u001b[43m \u001b[49m\u001b[43m(\u001b[49m\u001b[38;5;241;43m-\u001b[39;49m\u001b[38;5;241;43m2\u001b[39;49m\u001b[43m)\u001b[49m\u001b[43m)\u001b[49m\n",
      "\u001b[1;31mZeroDivisionError\u001b[0m: integer division or modulo by zero"
     ]
    }
   ],
   "source": [
    "42 // (4 + 2 * (-2))"
   ]
  },
  {
   "cell_type": "code",
   "execution_count": 4,
   "id": "7581f92f",
   "metadata": {},
   "outputs": [
    {
     "data": {
      "text/plain": [
       "18064773765607550801425251468864907833685590016"
      ]
     },
     "execution_count": 4,
     "metadata": {},
     "output_type": "execute_result"
    }
   ],
   "source": [
    "2014 ** 14"
   ]
  },
  {
   "cell_type": "code",
   "execution_count": 5,
   "id": "f2a10432",
   "metadata": {},
   "outputs": [
    {
     "data": {
      "text/plain": [
       "1234.5"
      ]
     },
     "execution_count": 5,
     "metadata": {},
     "output_type": "execute_result"
    }
   ],
   "source": [
    " 1.2345e3"
   ]
  },
  {
   "cell_type": "code",
   "execution_count": 6,
   "id": "08b7bb86",
   "metadata": {},
   "outputs": [
    {
     "data": {
      "text/plain": [
       "0.0012345"
      ]
     },
     "execution_count": 6,
     "metadata": {},
     "output_type": "execute_result"
    }
   ],
   "source": [
    "1.2345e-3"
   ]
  },
  {
   "cell_type": "code",
   "execution_count": 7,
   "id": "a83d39f9",
   "metadata": {},
   "outputs": [
    {
     "data": {
      "text/plain": [
       "1.806477376560755e+46"
      ]
     },
     "execution_count": 7,
     "metadata": {},
     "output_type": "execute_result"
    }
   ],
   "source": [
    "2014.0 ** 14"
   ]
  },
  {
   "cell_type": "code",
   "execution_count": 8,
   "id": "4bc48a84",
   "metadata": {},
   "outputs": [
    {
     "data": {
      "text/plain": [
       "2.3333333333333335"
      ]
     },
     "execution_count": 8,
     "metadata": {},
     "output_type": "execute_result"
    }
   ],
   "source": [
    "7/3"
   ]
  },
  {
   "cell_type": "code",
   "execution_count": 9,
   "id": "81aabd2c",
   "metadata": {},
   "outputs": [
    {
     "data": {
      "text/plain": [
       "2"
      ]
     },
     "execution_count": 9,
     "metadata": {},
     "output_type": "execute_result"
    }
   ],
   "source": [
    "7//3"
   ]
  },
  {
   "cell_type": "code",
   "execution_count": 10,
   "id": "ec001abf",
   "metadata": {},
   "outputs": [
    {
     "data": {
      "text/plain": [
       "2"
      ]
     },
     "execution_count": 10,
     "metadata": {},
     "output_type": "execute_result"
    }
   ],
   "source": [
    "int (2.99)"
   ]
  },
  {
   "cell_type": "code",
   "execution_count": 11,
   "id": "9e5157fc",
   "metadata": {},
   "outputs": [
    {
     "data": {
      "text/plain": [
       "-1"
      ]
     },
     "execution_count": 11,
     "metadata": {},
     "output_type": "execute_result"
    }
   ],
   "source": [
    "int (-1.6)"
   ]
  },
  {
   "cell_type": "code",
   "execution_count": 12,
   "id": "d6d018ec",
   "metadata": {},
   "outputs": [
    {
     "data": {
      "text/plain": [
       "89"
      ]
     },
     "execution_count": 12,
     "metadata": {},
     "output_type": "execute_result"
    }
   ],
   "source": [
    "9**19 - int(float(9**19))"
   ]
  },
  {
   "cell_type": "code",
   "execution_count": 20,
   "id": "f181669e",
   "metadata": {},
   "outputs": [
    {
     "name": "stdout",
     "output_type": "stream",
     "text": [
      "480\n",
      "8\n",
      "0\n"
     ]
    }
   ],
   "source": [
    "x = int (input ()//60)\n",
    "h = int (input ())\n",
    "m = int (input ())\n",
    "a = x + h \n",
    "b = int (a%60)+m\n",
    "print (a)\n",
    "print (b)"
   ]
  },
  {
   "cell_type": "code",
   "execution_count": 19,
   "id": "5aa78d2e",
   "metadata": {},
   "outputs": [
    {
     "data": {
      "text/plain": [
       "0"
      ]
     },
     "execution_count": 19,
     "metadata": {},
     "output_type": "execute_result"
    }
   ],
   "source": [
    "480 % 60"
   ]
  },
  {
   "cell_type": "code",
   "execution_count": 21,
   "id": "68c46bd2",
   "metadata": {},
   "outputs": [
    {
     "name": "stdout",
     "output_type": "stream",
     "text": [
      "480\n",
      "1\n",
      "2\n",
      "9\n",
      "2\n"
     ]
    }
   ],
   "source": [
    "x = int (input ())\n",
    "h = int (input ())\n",
    "m = int (input ())\n",
    "a = int (x//60)\n",
    "b = a + h\n",
    "c = int (x%60)+m\n",
    "print (b)\n",
    "print (c)"
   ]
  },
  {
   "cell_type": "code",
   "execution_count": 22,
   "id": "8312fa45",
   "metadata": {},
   "outputs": [
    {
     "name": "stdout",
     "output_type": "stream",
     "text": [
      "480\n",
      "1\n",
      "2\n",
      "9\n",
      "2\n"
     ]
    }
   ],
   "source": [
    "x = int (input ())\n",
    "h = int (input ())\n",
    "m = int (input ())\n",
    "a = h * 60\n",
    "b = x + a + m\n",
    "c = b//60\n",
    "d = b%60\n",
    "print (c)\n",
    "print (d)"
   ]
  },
  {
   "cell_type": "code",
   "execution_count": 1,
   "id": "1bca205f",
   "metadata": {},
   "outputs": [
    {
     "data": {
      "text/plain": [
       "True"
      ]
     },
     "execution_count": 1,
     "metadata": {},
     "output_type": "execute_result"
    }
   ],
   "source": [
    "x = 5\n",
    "y = 10\n",
    "y > x * x or y >= 2 * x and x < y\n"
   ]
  },
  {
   "cell_type": "code",
   "execution_count": 2,
   "id": "4c0d4c15",
   "metadata": {},
   "outputs": [
    {
     "data": {
      "text/plain": [
       "False"
      ]
     },
     "execution_count": 2,
     "metadata": {},
     "output_type": "execute_result"
    }
   ],
   "source": [
    "a = True\n",
    "b = False\n",
    "a and b or not a and not b"
   ]
  },
  {
   "cell_type": "code",
   "execution_count": 5,
   "id": "2aa18386",
   "metadata": {},
   "outputs": [
    {
     "ename": "SyntaxError",
     "evalue": "invalid syntax (199244663.py, line 4)",
     "output_type": "error",
     "traceback": [
      "\u001b[1;36m  Input \u001b[1;32mIn [5]\u001b[1;36m\u001b[0m\n\u001b[1;33m    if a <= b ,  h == a :\u001b[0m\n\u001b[1;37m              ^\u001b[0m\n\u001b[1;31mSyntaxError\u001b[0m\u001b[1;31m:\u001b[0m invalid syntax\n"
     ]
    }
   ],
   "source": [
    "a = int (input())\n",
    "b = int (input())\n",
    "h = int (input())\n",
    "if a <= b ,  h == a :\n",
    "    print (\"Это нормально\")\n",
    "elif a <= b , h < a :\n",
    "    print (\"Недосып\")\n",
    "elif a <= b ,  h > b :\n",
    "    print (\"Пересып\")\n"
   ]
  },
  {
   "cell_type": "code",
   "execution_count": 13,
   "id": "49e85815",
   "metadata": {},
   "outputs": [
    {
     "data": {
      "text/plain": [
       "0"
      ]
     },
     "execution_count": 13,
     "metadata": {},
     "output_type": "execute_result"
    }
   ],
   "source": [
    "2//4\n"
   ]
  },
  {
   "cell_type": "code",
   "execution_count": 14,
   "id": "65dc832d",
   "metadata": {},
   "outputs": [
    {
     "data": {
      "text/plain": [
       "5"
      ]
     },
     "execution_count": 14,
     "metadata": {},
     "output_type": "execute_result"
    }
   ],
   "source": [
    "0+5"
   ]
  },
  {
   "cell_type": "code",
   "execution_count": 33,
   "id": "8f2067de",
   "metadata": {},
   "outputs": [
    {
     "name": "stdout",
     "output_type": "stream",
     "text": [
      "2100\n",
      "Обычный\n"
     ]
    }
   ],
   "source": [
    "n = int (input())\n",
    "a = 4\n",
    "b = 100\n",
    "c = 400\n",
    "1900<=n<=3000\n",
    "if (n%a == 0 and n%400 == 0) or n%100 != 0 :\n",
    "        print (\"Високосный\")\n",
    "else:\n",
    "    print (\"Обычный\")\n",
    "    \n"
   ]
  },
  {
   "cell_type": "code",
   "execution_count": 40,
   "id": "9d817692",
   "metadata": {},
   "outputs": [
    {
     "name": "stdout",
     "output_type": "stream",
     "text": [
      "2000\n",
      "Високосный\n"
     ]
    }
   ],
   "source": [
    "n = int (input())\n",
    "a = 4\n",
    "b = 100\n",
    "c = 400\n",
    "1900<=n<=3000\n",
    "if ((n//a == 0 and n%400 != 0.0) or n%100 == 0) :\n",
    "        print (\"Високосный\")\n",
    "else:\n",
    "    print (\"Обычный\")\n"
   ]
  },
  {
   "cell_type": "code",
   "execution_count": 38,
   "id": "58fe902a",
   "metadata": {},
   "outputs": [
    {
     "name": "stdout",
     "output_type": "stream",
     "text": [
      "2000\n",
      "Обычный\n"
     ]
    }
   ],
   "source": [
    "n = int (input())\n",
    "a = 4\n",
    "b = 100\n",
    "c = 400\n",
    "1900<=n<=3000\n",
    "if ((n%a == 0 and not n%100 == 0) or n%400 != 0) :\n",
    "    print (\"Високосный\")\n",
    "else:\n",
    "    print (\"Обычный\")\n"
   ]
  },
  {
   "cell_type": "code",
   "execution_count": 2,
   "id": "3cf9b5b2",
   "metadata": {},
   "outputs": [
    {
     "data": {
      "text/plain": [
       "False"
      ]
     },
     "execution_count": 2,
     "metadata": {},
     "output_type": "execute_result"
    }
   ],
   "source": [
    "\"239\" < \"30\" and 239 < 30"
   ]
  },
  {
   "cell_type": "code",
   "execution_count": 3,
   "id": "ce567c39",
   "metadata": {},
   "outputs": [
    {
     "data": {
      "text/plain": [
       "True"
      ]
     },
     "execution_count": 3,
     "metadata": {},
     "output_type": "execute_result"
    }
   ],
   "source": [
    "\"239\" < \"30\" and 239 > 30"
   ]
  },
  {
   "cell_type": "code",
   "execution_count": 4,
   "id": "555446a1",
   "metadata": {},
   "outputs": [
    {
     "data": {
      "text/plain": [
       "False"
      ]
     },
     "execution_count": 4,
     "metadata": {},
     "output_type": "execute_result"
    }
   ],
   "source": [
    "\"239\" > \"30\" and 239 < 30"
   ]
  },
  {
   "cell_type": "code",
   "execution_count": 5,
   "id": "b08d94de",
   "metadata": {},
   "outputs": [
    {
     "data": {
      "text/plain": [
       "False"
      ]
     },
     "execution_count": 5,
     "metadata": {},
     "output_type": "execute_result"
    }
   ],
   "source": [
    "\"239\" > \"30\" and 239 > 30"
   ]
  },
  {
   "cell_type": "code",
   "execution_count": 6,
   "id": "13f5f8ab",
   "metadata": {},
   "outputs": [
    {
     "data": {
      "text/plain": [
       "'12342'"
      ]
     },
     "execution_count": 6,
     "metadata": {},
     "output_type": "execute_result"
    }
   ],
   "source": [
    "\"123\" + \"42\""
   ]
  },
  {
   "cell_type": "code",
   "execution_count": 7,
   "id": "68038dd0",
   "metadata": {},
   "outputs": [
    {
     "name": "stdout",
     "output_type": "stream",
     "text": [
      "3\n",
      "4\n",
      "5\n",
      "6.0\n"
     ]
    }
   ],
   "source": [
    "import math\n",
    "a = int (input ())\n",
    "b = int (input ())\n",
    "c = int (input ())\n",
    "p = float ((a + b + c) // 2)\n",
    "d = float (p*(p-a)*(p-b)*(p-c)) \n",
    "s = float (math.sqrt(d))\n",
    "print (s)\n"
   ]
  },
  {
   "cell_type": "code",
   "execution_count": 8,
   "id": "99c5e9f6",
   "metadata": {},
   "outputs": [
    {
     "name": "stdout",
     "output_type": "stream",
     "text": [
      "6\n",
      "9\n",
      "7\n",
      "20.97617696340303\n"
     ]
    }
   ],
   "source": [
    "import math\n",
    "a = int (input ())\n",
    "b = int (input ())\n",
    "c = int (input ())\n",
    "p = float (a + b + c) / 2\n",
    "d = float (p*(p-a)*(p-b)*(p-c)) \n",
    "s = float (math.sqrt(d))\n",
    "print (s)"
   ]
  },
  {
   "cell_type": "code",
   "execution_count": null,
   "id": "4e34de81",
   "metadata": {},
   "outputs": [],
   "source": [
    "a = int (input())\n",
    "if 12>=a>=(-15) or 17>=a>=14 or a>19 :\n",
    "    print (\"True\")\n",
    "else :\n",
    "    print (\"False\")"
   ]
  },
  {
   "cell_type": "code",
   "execution_count": 16,
   "id": "10c6d208",
   "metadata": {},
   "outputs": [
    {
     "name": "stdout",
     "output_type": "stream",
     "text": [
      "2\n",
      "4\n",
      "+\n",
      "6.0\n"
     ]
    }
   ],
   "source": [
    "a = float (input())\n",
    "b = float (input())\n",
    "operation = (input(''))\n",
    "if operation == '+' :\n",
    "    print (a+b)\n",
    "elif operation == '-' :\n",
    "    print (a-b)\n",
    "elif operation == '/' and b>0 :\n",
    "    print (a/b)\n",
    "elif operation == '*' :\n",
    "    print (a*b)\n",
    "elif operation == 'mod' and b>0 :\n",
    "    print (a%b)\n",
    "    if b == 0.0 :\n",
    "        print (\"Деление на 0!\")\n",
    "elif operation == 'pow' :\n",
    "    print (a**b)\n",
    "elif operation == 'div' and b>0 :\n",
    "    print (a//b)\n",
    "elif b == 0.0 and (operation == '/' or operation == 'mod' or operation == 'div') :\n",
    "    print (\"Деление на 0!\")"
   ]
  },
  {
   "cell_type": "code",
   "execution_count": 17,
   "id": "5165f790",
   "metadata": {},
   "outputs": [
    {
     "name": "stdout",
     "output_type": "stream",
     "text": [
      "круг\n",
      "4\n",
      "50.24\n"
     ]
    }
   ],
   "source": [
    "import math\n",
    "d = (input(\"\"))\n",
    "if d == \"треугольник\" :\n",
    "    a = float (input ())\n",
    "    b = float (input ())\n",
    "    c = float (input ())\n",
    "    p = float (a + b + c) / 2\n",
    "    d = float (p*(p-a)*(p-b)*(p-c)) \n",
    "    s = float (math.sqrt(d))\n",
    "    print (s)\n",
    "elif d == \"прямоугольник\" :\n",
    "    a = float (input ())\n",
    "    b = float (input ())\n",
    "    s = float (a*b)\n",
    "    print (s)\n",
    "elif d == \"круг\" :\n",
    "    r = float (input())\n",
    "    p = float (3.14)\n",
    "    s = float (p*(r**2))\n",
    "    print (s)\n",
    "else :\n",
    "    print (\"error\")"
   ]
  },
  {
   "cell_type": "code",
   "execution_count": 26,
   "id": "637e5a4e",
   "metadata": {},
   "outputs": [
    {
     "name": "stdout",
     "output_type": "stream",
     "text": [
      "8\n",
      "2\n",
      "14\n",
      "c/nb/na\n"
     ]
    }
   ],
   "source": [
    "a = int (input (\"\"))\n",
    "b = int (input (\"\"))\n",
    "c = int (input (\"\"))\n",
    "if c<a>b and c<b<a and b>c<a :\n",
    "    print ('a' + '/n' + 'c' + '/n' + 'b')\n",
    "elif a<b>c and a<c<b and c>a<b :\n",
    "    print ('b' + '/n' + 'a' + '/n' + 'c')\n",
    "elif c<b>a and c<a<b and b>c<a :\n",
    "    print ('b' + '/n' + 'c' + '/n' + 'a')\n",
    "elif c<a>b and b<c<a and c>b<a :\n",
    "    print ('a' + '/n' + 'b' + '/n' + 'c')\n",
    "elif a<c>b and a<b<c and b>a<c :\n",
    "    print ('c' + '/n' + 'a' + '/n' + 'b')\n",
    "elif b<c>a and b<a<c and a>b<c :\n",
    "    print ('c' + '/n' + 'b' + '/n' + 'a')"
   ]
  },
  {
   "cell_type": "code",
   "execution_count": 25,
   "id": "fbe4cdb6",
   "metadata": {},
   "outputs": [
    {
     "name": "stdout",
     "output_type": "stream",
     "text": [
      "5\n",
      "7\n",
      "7\n"
     ]
    },
    {
     "ename": "TypeError",
     "evalue": "unsupported operand type(s) for +: 'int' and 'str'",
     "output_type": "error",
     "traceback": [
      "\u001b[1;31m---------------------------------------------------------------------------\u001b[0m",
      "\u001b[1;31mTypeError\u001b[0m                                 Traceback (most recent call last)",
      "Input \u001b[1;32mIn [25]\u001b[0m, in \u001b[0;36m<cell line: 4>\u001b[1;34m()\u001b[0m\n\u001b[0;32m      2\u001b[0m b \u001b[38;5;241m=\u001b[39m \u001b[38;5;28mint\u001b[39m (\u001b[38;5;28minput\u001b[39m ())\n\u001b[0;32m      3\u001b[0m c \u001b[38;5;241m=\u001b[39m \u001b[38;5;28mint\u001b[39m (\u001b[38;5;28minput\u001b[39m ())\n\u001b[1;32m----> 4\u001b[0m \u001b[38;5;28mprint\u001b[39m (\u001b[43mc\u001b[49m\u001b[43m \u001b[49m\u001b[38;5;241;43m+\u001b[39;49m\u001b[43m \u001b[49m\u001b[38;5;124;43m'\u001b[39;49m\u001b[38;5;124;43m/n\u001b[39;49m\u001b[38;5;124;43m'\u001b[39;49m \u001b[38;5;241m+\u001b[39m b \u001b[38;5;241m+\u001b[39m \u001b[38;5;124m'\u001b[39m\u001b[38;5;124m/n\u001b[39m\u001b[38;5;124m'\u001b[39m \u001b[38;5;241m+\u001b[39m a)\n",
      "\u001b[1;31mTypeError\u001b[0m: unsupported operand type(s) for +: 'int' and 'str'"
     ]
    }
   ],
   "source": [
    "a = int (input ())\n",
    "b = int (input ())\n",
    "c = int (input ())\n",
    "print (c + '/n' + b + '/n' + a)"
   ]
  },
  {
   "cell_type": "code",
   "execution_count": 27,
   "id": "0d57fdb1",
   "metadata": {},
   "outputs": [
    {
     "name": "stdout",
     "output_type": "stream",
     "text": [
      "8\n",
      "2\n",
      "12\n",
      "12 \n",
      " 2 \n",
      " 8\n"
     ]
    }
   ],
   "source": [
    "a = int (input ())\n",
    "b = int (input ())\n",
    "c = int (input ())\n",
    "if c<=a>=b and c<=b<=a and b>=c<=a :\n",
    "    print (a , \"\\n\" , c , \"\\n\" , b)\n",
    "elif a<=b>=c and a<=c<=b and c>=a<=b :\n",
    "    print (b , \"\\n\" , a , \"\\n\" , c)\n",
    "elif c<=b>=a and c<=a<=b and b>=c<=a :\n",
    "    print (b , \"\\n\" , c , \"\\n\" , a)\n",
    "elif c<=a>=b and b<=c<=a and c>=b<=a :\n",
    "    print (a , \"\\n\" , b , \"\\n\" , c)\n",
    "elif a<=c>=b and a<=b<=c and b>=a<=c :\n",
    "    print (c , \"\\n\" , a , \"\\n\" , b)\n",
    "elif b<=c>=a and b<=a<=c and a>=b<=c :\n",
    "    print (c , \"\\n\" , b , \"\\n\" , a)"
   ]
  },
  {
   "cell_type": "code",
   "execution_count": 34,
   "id": "eb2440b9",
   "metadata": {},
   "outputs": [
    {
     "name": "stdout",
     "output_type": "stream",
     "text": [
      "4\n",
      "Обычный\n"
     ]
    }
   ],
   "source": [
    "a = int (input())\n",
    "b = a//2\n",
    "c = a%2\n",
    "if b==c :\n",
    "    print (\"Счастливый\")\n",
    "else :\n",
    "    print (\"Обычный\")"
   ]
  },
  {
   "cell_type": "code",
   "execution_count": 42,
   "id": "63d8992f",
   "metadata": {},
   "outputs": [
    {
     "name": "stdout",
     "output_type": "stream",
     "text": [
      "090234\n",
      "Обычный\n"
     ]
    }
   ],
   "source": [
    "a = int (input ())\n",
    "a == \"abcdef\"\n",
    "\"abcdef\" == \"abc\" + \"def\"\n",
    "if \"abc\" == \"def\" :\n",
    "    print (\"Счастливый\")\n",
    "elif \"abc\" > \"def\" or \"def\" > \"abc\" :\n",
    "    print (\"Обычный\")"
   ]
  },
  {
   "cell_type": "code",
   "execution_count": 46,
   "id": "e098a791",
   "metadata": {},
   "outputs": [
    {
     "name": "stdout",
     "output_type": "stream",
     "text": [
      "123456\\\n"
     ]
    },
    {
     "ename": "TypeError",
     "evalue": "string indices must be integers",
     "output_type": "error",
     "traceback": [
      "\u001b[1;31m---------------------------------------------------------------------------\u001b[0m",
      "\u001b[1;31mTypeError\u001b[0m                                 Traceback (most recent call last)",
      "Input \u001b[1;32mIn [46]\u001b[0m, in \u001b[0;36m<cell line: 2>\u001b[1;34m()\u001b[0m\n\u001b[0;32m      1\u001b[0m a \u001b[38;5;241m=\u001b[39m (\u001b[38;5;28minput\u001b[39m (\u001b[38;5;124m\"\u001b[39m\u001b[38;5;124m\"\u001b[39m))\n\u001b[1;32m----> 2\u001b[0m \u001b[38;5;28;01mif\u001b[39;00m \u001b[43ma\u001b[49m\u001b[43m[\u001b[49m\u001b[38;5;241;43m0\u001b[39;49m\u001b[43m,\u001b[49m\u001b[38;5;241;43m2\u001b[39;49m\u001b[43m]\u001b[49m \u001b[38;5;241m==\u001b[39m a[\u001b[38;5;241m3\u001b[39m,\u001b[38;5;241m5\u001b[39m] :\n\u001b[0;32m      3\u001b[0m     \u001b[38;5;28mprint\u001b[39m (\u001b[38;5;124m\"\u001b[39m\u001b[38;5;124mСчастливый\u001b[39m\u001b[38;5;124m\"\u001b[39m)\n\u001b[0;32m      4\u001b[0m \u001b[38;5;28;01melif\u001b[39;00m a[\u001b[38;5;241m0\u001b[39m,\u001b[38;5;241m2\u001b[39m] \u001b[38;5;241m!=\u001b[39m a[\u001b[38;5;241m3\u001b[39m,\u001b[38;5;241m5\u001b[39m] :\n",
      "\u001b[1;31mTypeError\u001b[0m: string indices must be integers"
     ]
    }
   ],
   "source": [
    "a = (input (\"\"))\n",
    "if a[0,2] == a[3,5] :\n",
    "    print (\"Счастливый\")\n",
    "elif a[0,2] != a[3,5] :\n",
    "    print (\"Обычный\")"
   ]
  },
  {
   "cell_type": "code",
   "execution_count": 49,
   "id": "c84d2a9c",
   "metadata": {},
   "outputs": [
    {
     "name": "stdout",
     "output_type": "stream",
     "text": [
      "090234\n",
      "Обычный\n"
     ]
    }
   ],
   "source": [
    "a = str (input ())\n",
    "a == \"abcdef\"\n",
    "\"abcdef\" == \"abc\" + \"def\"\n",
    "if \"abc\" == \"def\" :\n",
    "    print (\"Счастливый\")\n",
    "elif \"abc\" > \"def\" or \"def\" > \"abc\" :\n",
    "    print (\"Обычный\")"
   ]
  },
  {
   "cell_type": "code",
   "execution_count": 51,
   "id": "4fd5a147",
   "metadata": {},
   "outputs": [
    {
     "name": "stdout",
     "output_type": "stream",
     "text": [
      "Введите номер билета123456\n",
      "Обычный\n"
     ]
    }
   ],
   "source": [
    "a = str(input(\"Введите номер билета\"))\n",
    "b=int(a[0])+int(a[1])+int(a[2])\n",
    "c=int(a[3])+int(a[4])+int(a[5])\n",
    "if b==c :\n",
    "  print('Счастливый')\n",
    "else :\n",
    "  print('Обычный')"
   ]
  },
  {
   "cell_type": "code",
   "execution_count": 5,
   "id": "5549950d",
   "metadata": {},
   "outputs": [
    {
     "name": "stdout",
     "output_type": "stream",
     "text": [
      "2\n",
      "2 программиста\n"
     ]
    }
   ],
   "source": [
    "n = int (input())\n",
    "1000>=n>=0\n",
    "a = (n%100) // 10\n",
    "b = n % 10\n",
    "c = \"программистов\"\n",
    "d = \"программист\"\n",
    "e = \"программиста\"\n",
    "if a == 1 :\n",
    "    print (n, c)\n",
    "elif b == 0 or 9>=b>=5 :\n",
    "    print (n, c)\n",
    "elif b == 1 :\n",
    "    print (n, d)\n",
    "elif 4>=b>=2 :\n",
    "    print (n, e)"
   ]
  },
  {
   "cell_type": "code",
   "execution_count": null,
   "id": "f6f7ed03",
   "metadata": {},
   "outputs": [],
   "source": []
  }
 ],
 "metadata": {
  "kernelspec": {
   "display_name": "Python 3 (ipykernel)",
   "language": "python",
   "name": "python3"
  },
  "language_info": {
   "codemirror_mode": {
    "name": "ipython",
    "version": 3
   },
   "file_extension": ".py",
   "mimetype": "text/x-python",
   "name": "python",
   "nbconvert_exporter": "python",
   "pygments_lexer": "ipython3",
   "version": "3.10.2"
  }
 },
 "nbformat": 4,
 "nbformat_minor": 5
}
